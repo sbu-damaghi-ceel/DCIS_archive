{
 "cells": [
  {
   "cell_type": "code",
   "execution_count": null,
   "metadata": {},
   "outputs": [],
   "source": [
    "###Preprocessed IHC files from process_raw_cellDetection.ipynb"
   ]
  },
  {
   "cell_type": "code",
   "execution_count": null,
   "metadata": {},
   "outputs": [],
   "source": [
    "#BIOPSY"
   ]
  },
  {
   "cell_type": "code",
   "execution_count": null,
   "metadata": {},
   "outputs": [],
   "source": [
    "##cells in hyp and oxi\n",
    "pt_df = pd.read_csv('/mnt/data10/shared/yujie/DCIS/cellDet_data/biopsy_CA9_Glut1_LAMP2b_processed.csv')\n",
    "all_df=pt_df[(pt_df['Parent'].str.contains('hyp'))|(pt_df['Parent'].str.contains('oxi'))]\n",
    "#print(all_df['Parent'].unique())\n",
    "import pandas as pd\n",
    "import numpy as np\n",
    "\n",
    "from valis import registration, warp_tools\n",
    "\n",
    "# Set the pyramid level from which the ROI coordinates originated. Usually 0 when working with slides.\n",
    "COORD_LEVEL = 0\n",
    "stains = ['CA9', 'Glut1', 'LAMP2b']#cells are identified only from IHC, not from HE\n",
    "\n",
    "\n",
    "for patient_num in all_df['patientNum'].unique():\n",
    "    patient_df = all_df[all_df['patientNum'] == patient_num]\n",
    "    \n",
    "    registrar_f = f'/mnt/data10/shared/yujie/DCIS/valis_regRef/{patient_num}/data/{patient_num}_registrar.pickle'\n",
    "    registrar = registration.load_registrar(registrar_f)\n",
    "\n",
    "\n",
    "    for stain in stains:\n",
    "        # Filter the DataFrame for the current stain\n",
    "        stain_df = patient_df[patient_df['stain'] == stain]\n",
    "        if not stain_df.empty:\n",
    "            slideId = stain_df['slideId'].iloc[0]\n",
    "            stain_slide = registrar.get_slide(f'{slideId}_{stain}')\n",
    "        \n",
    "            # Convert x, y to NumPy array\n",
    "            xy_array = stain_df[['X', 'Y']].to_numpy()\n",
    "            xy_pixel_arr = (xy_array / 0.5022).astype(int)#from micrometer to pixel\n",
    "\n",
    "            transformed_xy = stain_slide.warp_xy(xy_pixel_arr,\n",
    "                                                    slide_level=COORD_LEVEL,\n",
    "                                                    pt_level=COORD_LEVEL)\n",
    "            transformed_xy_int = np.rint(transformed_xy).astype(int)\n",
    "            all_df.loc[stain_df.index, f'X_HE'] = transformed_xy_int[:, 0]\n",
    "            all_df.loc[stain_df.index, f'Y_HE'] = transformed_xy_int[:, 1]\n",
    "    print(f'{patient_num} done.')\n",
    "all_df.to_csv('/mnt/data10/shared/yujie/DCIS/ANALYSIS/biopsy_CA9_Glut1_LAMP2b_warped.csv',index=False)\n",
    "print(len(all_df))\n",
    "all_df.head()\n"
   ]
  },
  {
   "cell_type": "code",
   "execution_count": null,
   "metadata": {},
   "outputs": [],
   "source": [
    "########excision(mixed 44 patients)"
   ]
  },
  {
   "cell_type": "code",
   "execution_count": null,
   "metadata": {},
   "outputs": [],
   "source": [
    "import pandas as pd\n",
    "import numpy as np\n",
    "from valis import registration, warp_tools\n",
    "\n",
    "pt_df = pd.read_csv('/mnt/data10/shared/yujie/DCIS/cellDet_data/exc44_CA9_LAMP2b_processed.csv')\n",
    "\n",
    "# Set the pyramid level from which the ROI coordinates originated. Usually 0 when working with slides.\n",
    "COORD_LEVEL = 0\n",
    "stains = ['CA9', 'LAMP2b']#cells are identified only from IHC, not from HE\n",
    "\n",
    "\n",
    "for patient_num in pt_df['patientNum'].unique():\n",
    "    patient_df = pt_df[pt_df['patientNum'] == patient_num]\n",
    "    \n",
    "    registrar_f = f'/mnt/data10/shared/yujie/DCIS/valis_regRef49/{patient_num}/data/{patient_num}_registrar.pickle'\n",
    "    registrar = registration.load_registrar(registrar_f)\n",
    "\n",
    "\n",
    "    for stain in stains:\n",
    "        # Filter the DataFrame for the current stain\n",
    "        stain_df = patient_df[patient_df['stain'] == stain]\n",
    "        if not stain_df.empty:\n",
    "            slideId = stain_df['slideId'].iloc[0]\n",
    "            stain_slide = registrar.get_slide(f'{slideId}_{stain}')\n",
    "        \n",
    "            # Convert x, y to NumPy array\n",
    "            xy_array = stain_df[['X', 'Y']].to_numpy()\n",
    "            xy_pixel_arr = (xy_array / 0.5022).astype(int)#from micrometer to pixel\n",
    "\n",
    "            transformed_xy = stain_slide.warp_xy(xy_pixel_arr,\n",
    "                                                    slide_level=COORD_LEVEL,\n",
    "                                                    pt_level=COORD_LEVEL)\n",
    "            transformed_xy_int = np.rint(transformed_xy).astype(int)\n",
    "            pt_df.loc[stain_df.index, f'X_HE'] = transformed_xy_int[:, 0]\n",
    "            pt_df.loc[stain_df.index, f'Y_HE'] = transformed_xy_int[:, 1]\n",
    "    print(f'{patient_num} done.')\n",
    "pt_df.to_csv('/mnt/data10/shared/yujie/DCIS/ANALYSIS/exc44_CA9_LAMP2b_warped.csv',index=False)\n",
    "pt_df.head()\n"
   ]
  }
 ],
 "metadata": {
  "kernelspec": {
   "display_name": "valis",
   "language": "python",
   "name": "valis"
  },
  "language_info": {
   "codemirror_mode": {
    "name": "ipython",
    "version": 3
   },
   "file_extension": ".py",
   "mimetype": "text/x-python",
   "name": "python",
   "nbconvert_exporter": "python",
   "pygments_lexer": "ipython3",
   "version": "3.10.13"
  }
 },
 "nbformat": 4,
 "nbformat_minor": 4
}
