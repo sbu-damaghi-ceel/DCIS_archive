{
 "cells": [
  {
   "cell_type": "code",
   "execution_count": null,
   "metadata": {},
   "outputs": [],
   "source": [
    "#####Process the raw feature csv files from Qupath"
   ]
  },
  {
   "cell_type": "code",
   "execution_count": null,
   "metadata": {},
   "outputs": [],
   "source": [
    "########INCORRECT LABELLED DUCTS\n",
    "\n",
    "import pandas as pd\n",
    "file = '/mnt/data10/shared/yujie/DCIS/cellDet_data/raw/biopsy_HE.csv'\n",
    "pt_df = pd.read_csv(file)\n",
    "print(pt_df.shape)\n",
    "pt_df[~pt_df['Parent'].str.contains('Duct')][['Image','Parent']].drop_duplicates()"
   ]
  },
  {
   "cell_type": "code",
   "execution_count": null,
   "metadata": {},
   "outputs": [],
   "source": [
    "pt_df.columns"
   ]
  },
  {
   "cell_type": "code",
   "execution_count": null,
   "metadata": {},
   "outputs": [],
   "source": [
    "##################preprocess raw Biopsy HE cell detection\n",
    "import pandas as pd\n",
    "import os\n",
    "id_df = pd.read_csv('/mnt/data10/shared/yujie/DCIS/patientNum_slideId_upstage_biopsy.csv',dtype=str)#slideId and patientNum correspondence\n",
    "file = '/mnt/data10/shared/yujie/DCIS/cellDet_data/raw/biopsy_HE.csv'\n",
    "pt_df = pd.read_csv(file)\n",
    "pt_df = pt_df.rename(columns={'Centroid X µm': 'X', 'Centroid Y µm': 'Y','Classification':'Class'})\n",
    "\n",
    "pt_df['stain'] = pt_df['Image'].apply(lambda x: x.split('.')[0].split('_')[0] if pd.notnull(x) else x)\n",
    "pt_df['slideId'] = pt_df['Image'].apply(lambda x: x.split('.')[0].split('_')[2] if pd.notnull(x) else x)\n",
    "#print(pt_df.head())\n",
    "\n",
    "print(pt_df['Parent'].unique())\n",
    "print(pt_df['Parent'].value_counts())\n",
    "pt_df = pt_df[pt_df['Parent'].str.contains('Duct')]#some are null_oxi\n",
    "#pt_df = pt_df[(pt_df['Parent'].str.contains('oxi'))|(pt_df['Parent'].str.contains('hyp'))]\n",
    "print(f'total number of cells {len(pt_df)}')\n",
    "merged_df = pd.merge(pt_df, id_df[['slideId', 'patientNum']], left_on='slideId', right_on='slideId', how='left')\n",
    "merged_df.drop('Image', axis=1, inplace=True)\n",
    "print(merged_df.columns)\n",
    "merged_df.to_csv('/mnt/data10/shared/yujie/DCIS/cellDet_data/biopsy_HE_processed.csv',index=False)\n"
   ]
  },
  {
   "cell_type": "code",
   "execution_count": null,
   "metadata": {},
   "outputs": [],
   "source": [
    "##################preprocess raw Biopsy IHC cell detection\n",
    "import pandas as pd\n",
    "import os\n",
    "id_df = pd.read_csv('/mnt/data10/shared/yujie/DCIS/patientNum_slideId_upstage_biopsy.csv',dtype=str)#slideId and patientNum correspondence\n",
    "file = '/mnt/data10/shared/yujie/DCIS/cellDet_data/raw/biopsy_CA9_Glut1_LAMP2b.csv'\n",
    "pt_df = pd.read_csv(file)\n",
    "pt_df = pt_df.rename(columns={'Centroid X µm': 'X', 'Centroid Y µm': 'Y'})\n",
    "pt_df = pt_df[pt_df['Class']!='Negative']\n",
    "pt_df['stain'] = pt_df['Image'].apply(lambda x: x.split('.')[0].split('_')[0] if pd.notnull(x) else x)\n",
    "pt_df['stain'] = pt_df['stain'].replace('Lamp2b', 'LAMP2b', regex=True)\n",
    "pt_df['slideId'] = pt_df['Image'].apply(lambda x: x.split('.')[0].split('_')[2] if pd.notnull(x) else x)\n",
    "\n",
    "print(pt_df['Parent'].unique())\n",
    "print(pt_df['Parent'].value_counts())\n",
    "pt_df = pt_df[pt_df['Parent'].str.contains('Duct')]\n",
    "#pt_df = pt_df[(pt_df['Parent'].str.contains('oxi'))|(pt_df['Parent'].str.contains('hyp'))]\n",
    "print(f'total number of cells {len(pt_df)}')\n",
    "merged_df = pd.merge(pt_df, id_df[['slideId', 'patientNum']], left_on='slideId', right_on='slideId', how='left')\n",
    "merged_df.drop('Image', axis=1, inplace=True)\n",
    "print(merged_df.columns)\n",
    "merged_df.to_csv('/mnt/data10/shared/yujie/DCIS/cellDet_data/biopsy_CA9_Glut1_LAMP2b_processed.csv',index=False)\n",
    "\n"
   ]
  },
  {
   "cell_type": "code",
   "execution_count": null,
   "metadata": {},
   "outputs": [],
   "source": [
    "##################preprocess raw Excision HE cell detection\n",
    "import pandas as pd\n",
    "import os\n",
    "id_df = pd.read_csv('/mnt/data10/shared/yujie/DCIS/patientNum_slideId_upstage_excision.csv',dtype=str)#slideId and patientNum correspondence\n",
    "\n",
    "file = '/mnt/data10/shared/yujie/DCIS/cellDet_data/raw/exc44_HE.csv'\n",
    "pt_df = pd.read_csv(file)\n",
    "pt_df = pt_df.rename(columns={'Centroid X µm': 'X', 'Centroid Y µm': 'Y','Classification':'Class'})\n",
    "pt_df['stain'] = pt_df['Image'].apply(lambda x: x.split('.')[0].split('_')[1] if pd.notnull(x) else x)\n",
    "pt_df['stain'] = pt_df['stain'].replace('Lamp2b', 'LAMP2b', regex=True)\n",
    "pt_df['stain'] = pt_df['stain'].replace('H&E', 'HE', regex=True)\n",
    "pt_df['slideId'] = pt_df['Image'].apply(lambda x: x.split('.')[0].split('_')[0] if pd.notnull(x) else x)\n",
    "pt_df['Parent'] = pt_df['Parent'].apply(lambda x: x + '_oxi' if ('duct' in x and 'hyp' not in x) else x)\n",
    "\n",
    "\n",
    "print(pt_df['Parent'].unique())\n",
    "print(pt_df['Parent'].value_counts())\n",
    "pt_df = pt_df[pt_df['Parent'].str.contains('duct')]\n",
    "#pt_df = pt_df[(pt_df['Parent'].str.contains('oxi'))|(pt_df['Parent'].str.contains('hyp'))]\n",
    "print(f'total number of cells {len(pt_df)}')\n",
    "merged_df = pd.merge(pt_df, id_df[['slideId', 'patientNum']], left_on='slideId', right_on='slideId', how='left')\n",
    "merged_df.drop('Image', axis=1, inplace=True)\n",
    "print(merged_df.columns)\n",
    "merged_df.to_csv('/mnt/data10/shared/yujie/DCIS/cellDet_data/exc44_HE_processed.csv',index=False)\n"
   ]
  },
  {
   "cell_type": "code",
   "execution_count": null,
   "metadata": {},
   "outputs": [],
   "source": [
    "##################preprocess raw Excision IHC cell detection\n",
    "import pandas as pd\n",
    "import os\n",
    "id_df = pd.read_csv('/mnt/data10/shared/yujie/DCIS/patientNum_slideId_upstage_excision.csv',dtype=str)#slideId and patientNum correspondence\n",
    "\n",
    "file = '/mnt/data10/shared/yujie/DCIS/cellDet_data/raw/exc44_CA9_LAMP2b.csv'\n",
    "pt_df = pd.read_csv(file)\n",
    "pt_df = pt_df.rename(columns={'Centroid X µm': 'X', 'Centroid Y µm': 'Y','Classification':'Class'})\n",
    "pt_df = pt_df[pt_df['Class']!='Negative']\n",
    "pt_df['stain'] = pt_df['Image'].apply(lambda x: x.split('.')[0].split('_')[1] if pd.notnull(x) else x)\n",
    "pt_df['stain'] = pt_df['stain'].replace('Lamp2b', 'LAMP2b', regex=True)\n",
    "pt_df['slideId'] = pt_df['Image'].apply(lambda x: x.split('.')[0].split('_')[0] if pd.notnull(x) else x)\n",
    "\n",
    "\n",
    "\n",
    "print(f'total number of cells {len(pt_df)}')\n",
    "merged_df = pd.merge(pt_df, id_df[['slideId', 'patientNum']], left_on='slideId', right_on='slideId', how='left')\n",
    "merged_df.drop('Image', axis=1, inplace=True)\n",
    "print(merged_df.columns)\n",
    "merged_df.to_csv('/mnt/data10/shared/yujie/DCIS/cellDet_data/exc44_CA9_LAMP2b_processed.csv',index=False)\n"
   ]
  }
 ],
 "metadata": {
  "kernelspec": {
   "display_name": "dsmil",
   "language": "python",
   "name": "python3"
  },
  "language_info": {
   "codemirror_mode": {
    "name": "ipython",
    "version": 3
   },
   "file_extension": ".py",
   "mimetype": "text/x-python",
   "name": "python",
   "nbconvert_exporter": "python",
   "pygments_lexer": "ipython3",
   "version": "3.11.6"
  }
 },
 "nbformat": 4,
 "nbformat_minor": 4
}
